{
 "cells": [
  {
   "cell_type": "code",
   "execution_count": null,
   "metadata": {
    "autoscroll": false,
    "collapsed": false,
    "ein.tags": "worksheet-0",
    "slideshow": {
     "slide_type": "-"
    }
   },
   "outputs": [],
   "source": [
    "include(\"./diamond.jl\")"
   ]
  },
  {
   "cell_type": "code",
   "execution_count": null,
   "metadata": {
    "autoscroll": false,
    "collapsed": false,
    "ein.tags": "worksheet-0",
    "slideshow": {
     "slide_type": "-"
    }
   },
   "outputs": [],
   "source": [
    "using Gadfly"
   ]
  },
  {
   "cell_type": "code",
   "execution_count": 14,
   "metadata": {
    "autoscroll": false,
    "collapsed": false,
    "ein.tags": "worksheet-0",
    "slideshow": {
     "slide_type": "-"
    }
   },
   "outputs": [
    {
     "data": {
      "text/plain": [
       "k_map (generic function with 1 method)"
      ]
     },
     "execution_count": 14,
     "metadata": {},
     "output_type": "execute_result"
    }
   ],
   "source": [
    "function k_map(k, n, B, a, A)\n",
    "    1/(1+n) * B/(1+B) * (1-a) * A * k^a\n",
    "end\n",
    "\n",
    "fn(k) = k_map(k, .05, .5, .2, 2)\n",
    "\n",
    "\n",
    "function k_mapper(k, mapper, n = 0, lim = 1000)\n",
    "    if n > lim\n",
    "        return k\n",
    "    end\n",
    "    return k_mapper(mapper(k), mapper, n+1, lim)\n",
    "end\n"
   ]
  },
  {
   "cell_type": "code",
   "execution_count": null,
   "metadata": {
    "autoscroll": false,
    "collapsed": false,
    "ein.tags": "worksheet-0",
    "slideshow": {
     "slide_type": "-"
    }
   },
   "outputs": [],
   "source": []
  },
  {
   "cell_type": "code",
   "execution_count": 17,
   "metadata": {
    "autoscroll": false,
    "collapsed": false,
    "ein.tags": "worksheet-0",
    "slideshow": {
     "slide_type": "-"
    }
   },
   "outputs": [
    {
     "data": {
      "text/plain": [
       "Plot(...)"
      ]
     },
     "execution_count": 17,
     "metadata": {},
     "output_type": "execute_result",
     "svg": "<?xml version=\"1.0\" encoding=\"UTF-8\"?>\n<svg xmlns=\"http://www.w3.org/2000/svg\"\n     xmlns:xlink=\"http://www.w3.org/1999/xlink\"\n     xmlns:gadfly=\"http://www.gadflyjl.org/ns\"\n     version=\"1.2\"\n     width=\"141.42mm\" height=\"100mm\" viewBox=\"0 0 141.42 100\"\n     stroke=\"none\"\n     fill=\"#000000\"\n     stroke-width=\"0.3\"\n     font-size=\"3.88\"\n>\n<g class=\"plotroot xscalable yscalable\" id=\"img-e14ee9d0-1\">\n  <g font-size=\"3.88\" font-family=\"'PT Sans','Helvetica Neue','Helvetica',sans-serif\" fill=\"#564A55\" stroke=\"#000000\" stroke-opacity=\"0.000\" id=\"img-e14ee9d0-2\">\n    <text x=\"77.53\" y=\"88.39\" text-anchor=\"middle\" dy=\"0.6em\">x</text>\n  </g>\n  <g class=\"guide xlabels\" font-size=\"2.82\" font-family=\"'PT Sans Caption','Helvetica Neue','Helvetica',sans-serif\" fill=\"#6C606B\" id=\"img-e14ee9d0-3\">\n    <text x=\"20.63\" y=\"81.72\" text-anchor=\"middle\" dy=\"0.6em\">0.0</text>\n    <text x=\"77.53\" y=\"81.72\" text-anchor=\"middle\" dy=\"0.6em\">0.5</text>\n    <text x=\"134.42\" y=\"81.72\" text-anchor=\"middle\" dy=\"0.6em\">1.0</text>\n  </g>\n<g clip-path=\"url(#img-e14ee9d0-4)\">\n  <g id=\"img-e14ee9d0-5\">\n    <g pointer-events=\"visible\" opacity=\"1\" fill=\"#000000\" fill-opacity=\"0.000\" stroke=\"#000000\" stroke-opacity=\"0.000\" class=\"guide background\" id=\"img-e14ee9d0-6\">\n      <rect x=\"18.63\" y=\"5\" width=\"117.79\" height=\"75.72\"/>\n    </g>\n    <g class=\"guide ygridlines xfixed\" stroke-dasharray=\"0.5,0.5\" stroke-width=\"0.2\" stroke=\"#D0D0E0\" id=\"img-e14ee9d0-7\">\n      <path fill=\"none\" d=\"M18.63,78.71 L 136.42 78.71\"/>\n      <path fill=\"none\" d=\"M18.63,42.86 L 136.42 42.86\"/>\n      <path fill=\"none\" d=\"M18.63,7 L 136.42 7\"/>\n    </g>\n    <g class=\"guide xgridlines yfixed\" stroke-dasharray=\"0.5,0.5\" stroke-width=\"0.2\" stroke=\"#D0D0E0\" id=\"img-e14ee9d0-8\">\n      <path fill=\"none\" d=\"M20.63,5 L 20.63 80.72\"/>\n      <path fill=\"none\" d=\"M77.53,5 L 77.53 80.72\"/>\n      <path fill=\"none\" d=\"M134.42,5 L 134.42 80.72\"/>\n    </g>\n    <g class=\"plotpanel\" id=\"img-e14ee9d0-9\">\n      <g stroke-width=\"0.3\" fill=\"#000000\" fill-opacity=\"0.000\" class=\"geometry\" stroke-dasharray=\"none\" stroke=\"#00BFFF\" id=\"img-e14ee9d0-10\">\n        <path fill=\"none\" d=\"M20.63,78.71 L 21.09 78.71 21.55 78.71 22 78.7 22.46 78.7 22.92 78.69 23.37 78.67 23.83 78.66 24.29 78.64 24.74 78.62 25.2 78.6 25.66 78.58 26.12 78.55 26.57 78.52 27.03 78.49 27.49 78.45 27.94 78.42 28.4 78.38 28.86 78.34 29.31 78.3 29.77 78.25 30.23 78.2 30.69 78.16 31.14 78.1 31.6 78.05 32.06 77.99 32.51 77.93 32.97 77.87 33.43 77.81 33.88 77.74 34.34 77.67 34.8 77.6 35.26 77.53 35.71 77.46 36.17 77.38 36.63 77.3 37.08 77.22 37.54 77.13 38 77.04 38.45 76.96 38.91 76.86 39.37 76.77 39.83 76.67 40.28 76.58 40.74 76.48 41.2 76.37 41.65 76.27 42.11 76.16 42.57 76.05 43.02 75.94 43.48 75.82 43.94 75.71 44.39 75.59 44.85 75.47 45.31 75.34 45.77 75.22 46.22 75.09 46.68 74.96 47.14 74.82 47.59 74.69 48.05 74.55 48.51 74.41 48.96 74.27 49.42 74.12 49.88 73.98 50.34 73.83 50.79 73.68 51.25 73.52 51.71 73.37 52.16 73.21 52.62 73.05 53.08 72.88 53.53 72.72 53.99 72.55 54.45 72.38 54.91 72.21 55.36 72.03 55.82 71.86 56.28 71.68 56.73 71.5 57.19 71.31 57.65 71.13 58.1 70.94 58.56 70.75 59.02 70.55 59.48 70.36 59.93 70.16 60.39 69.96 60.85 69.76 61.3 69.55 61.76 69.35 62.22 69.14 62.67 68.92 63.13 68.71 63.59 68.49 64.05 68.28 64.5 68.06 64.96 67.83 65.42 67.61 65.87 67.38 66.33 67.15 66.79 66.92 67.24 66.68 67.7 66.44 68.16 66.2 68.62 65.96 69.07 65.72 69.53 65.47 69.99 65.22 70.44 64.97 70.9 64.72 71.36 64.46 71.81 64.21 72.27 63.95 72.73 63.68 73.19 63.42 73.64 63.15 74.1 62.88 74.56 62.61 75.01 62.34 75.47 62.06 75.93 61.78 76.38 61.5 76.84 61.22 77.3 60.93 77.76 60.64 78.21 60.35 78.67 60.06 79.13 59.76 79.58 59.47 80.04 59.17 80.5 58.87 80.95 58.56 81.41 58.25 81.87 57.95 82.32 57.63 82.78 57.32 83.24 57.01 83.7 56.69 84.15 56.37 84.61 56.04 85.07 55.72 85.52 55.39 85.98 55.06 86.44 54.73 86.89 54.4 87.35 54.06 87.81 53.72 88.27 53.38 88.72 53.04 89.18 52.69 89.64 52.34 90.09 51.99 90.55 51.64 91.01 51.28 91.46 50.93 91.92 50.57 92.38 50.2 92.84 49.84 93.29 49.47 93.75 49.1 94.21 48.73 94.66 48.36 95.12 47.98 95.58 47.61 96.03 47.22 96.49 46.84 96.95 46.46 97.41 46.07 97.86 45.68 98.32 45.29 98.78 44.89 99.23 44.5 99.69 44.1 100.15 43.7 100.6 43.29 101.06 42.89 101.52 42.48 101.98 42.07 102.43 41.65 102.89 41.24 103.35 40.82 103.8 40.4 104.26 39.98 104.72 39.55 105.17 39.13 105.63 38.7 106.09 38.27 106.55 37.83 107 37.4 107.46 36.96 107.92 36.52 108.37 36.08 108.83 35.63 109.29 35.18 109.74 34.73 110.2 34.28 110.66 33.83 111.12 33.37 111.57 32.91 112.03 32.45 112.49 31.98 112.94 31.52 113.4 31.05 113.86 30.58 114.31 30.11 114.77 29.63 115.23 29.15 115.68 28.67 116.14 28.19 116.6 27.71 117.06 27.22 117.51 26.73 117.97 26.24 118.43 25.74 118.88 25.25 119.34 24.75 119.8 24.25 120.25 23.75 120.71 23.24 121.17 22.73 121.63 22.22 122.08 21.71 122.54 21.19 123 20.68 123.45 20.16 123.91 19.64 124.37 19.11 124.82 18.59 125.28 18.06 125.74 17.53 126.2 16.99 126.65 16.46 127.11 15.92 127.57 15.38 128.02 14.84 128.48 14.29 128.94 13.75 129.39 13.2 129.85 12.64 130.31 12.09 130.77 11.53 131.22 10.98 131.68 10.41 132.14 9.85 132.59 9.29 133.05 8.72 133.51 8.15 133.96 7.57 134.42 7\"/>\n      </g>\n    </g>\n  </g>\n</g>\n  <g class=\"guide ylabels\" font-size=\"2.82\" font-family=\"'PT Sans Caption','Helvetica Neue','Helvetica',sans-serif\" fill=\"#6C606B\" id=\"img-e14ee9d0-11\">\n    <text x=\"17.63\" y=\"78.71\" text-anchor=\"end\" dy=\"0.35em\">0.0</text>\n    <text x=\"17.63\" y=\"42.86\" text-anchor=\"end\" dy=\"0.35em\">0.5</text>\n    <text x=\"17.63\" y=\"7\" text-anchor=\"end\" dy=\"0.35em\">1.0</text>\n  </g>\n  <g font-size=\"3.88\" font-family=\"'PT Sans','Helvetica Neue','Helvetica',sans-serif\" fill=\"#564A55\" stroke=\"#000000\" stroke-opacity=\"0.000\" id=\"img-e14ee9d0-12\">\n    <text x=\"8.81\" y=\"40.86\" text-anchor=\"middle\" dy=\"0.35em\" transform=\"rotate(-90, 8.81, 42.86)\">f(x)</text>\n  </g>\n</g>\n<defs>\n  <clipPath id=\"img-e14ee9d0-4\">\n  <path d=\"M18.63,5 L 136.42 5 136.42 80.72 18.63 80.72\" />\n</clipPath>\n</defs>\n</svg>\n"
    }
   ],
   "source": [
    "plot(x -> x^2, 0,1)"
   ]
  }
 ],
 "metadata": {
  "kernelspec": {
   "display_name": "Julia 0.5.2",
   "name": "julia-0.5"
  },
  "language_info": {
   "file_extension": ".jl",
   "mimetype": "application/julia",
   "name": "julia",
   "version": "0.5.2"
  },
  "name": "Diamond.ipynb"
 },
 "nbformat": 4,
 "nbformat_minor": 2
}
